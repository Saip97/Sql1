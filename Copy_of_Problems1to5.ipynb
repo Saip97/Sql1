{
  "nbformat": 4,
  "nbformat_minor": 0,
  "metadata": {
    "colab": {
      "provenance": [],
      "authorship_tag": "ABX9TyM4Osl771Ij0xsi1WSA7Xi8",
      "include_colab_link": true
    },
    "kernelspec": {
      "name": "python3",
      "display_name": "Python 3"
    },
    "language_info": {
      "name": "python"
    }
  },
  "cells": [
    {
      "cell_type": "markdown",
      "metadata": {
        "id": "view-in-github",
        "colab_type": "text"
      },
      "source": [
        "<a href=\"https://colab.research.google.com/github/Saip97/Sql1/blob/main/Copy_of_Problems1to5.ipynb\" target=\"_parent\"><img src=\"https://colab.research.google.com/assets/colab-badge.svg\" alt=\"Open In Colab\"/></a>"
      ]
    },
    {
      "cell_type": "markdown",
      "source": [
        "#Problem1"
      ],
      "metadata": {
        "id": "G5JkaOtC91sw"
      }
    },
    {
      "cell_type": "code",
      "execution_count": null,
      "metadata": {
        "id": "LFGE0vZn9EEx"
      },
      "outputs": [],
      "source": [
        "import numpy as np\n",
        "import matplotlib.pyplot as plt\n",
        "import torch"
      ]
    },
    {
      "cell_type": "code",
      "source": [
        "a = np.array([3,4,6,7])#Numpy arrays for storing and manipulating numerical data\n",
        "print(a)"
      ],
      "metadata": {
        "colab": {
          "base_uri": "https://localhost:8080/"
        },
        "id": "LJFzHsz59oBL",
        "outputId": "f29eb090-7ac5-4f3a-835f-0e153e7a9b23"
      },
      "execution_count": null,
      "outputs": [
        {
          "output_type": "stream",
          "name": "stdout",
          "text": [
            "[3 4 6 7]\n"
          ]
        }
      ]
    },
    {
      "cell_type": "markdown",
      "source": [
        "#Problem2"
      ],
      "metadata": {
        "id": "Vv0hvTp-BXUp"
      }
    },
    {
      "cell_type": "code",
      "source": [
        "a = np.array([1, 3, 2, 5] , dtype='float32')\n",
        "print(a)"
      ],
      "metadata": {
        "colab": {
          "base_uri": "https://localhost:8080/"
        },
        "id": "OBUrQdzj_cj8",
        "outputId": "ad61d921-63ca-4d13-8528-724762d78d11"
      },
      "execution_count": null,
      "outputs": [
        {
          "output_type": "stream",
          "name": "stdout",
          "text": [
            "[1. 3. 2. 5.]\n"
          ]
        }
      ]
    },
    {
      "cell_type": "markdown",
      "source": [
        "#Problem3"
      ],
      "metadata": {
        "id": "htn0Hi9NDq0J"
      }
    },
    {
      "cell_type": "code",
      "source": [
        "list_of_lists = [[1, 2, 3],\n",
        "                 [4, 4, 5],\n",
        "                 [6, 2, 11]]\n",
        "b = np.array(list_of_lists)\n",
        "print(b)"
      ],
      "metadata": {
        "colab": {
          "base_uri": "https://localhost:8080/"
        },
        "id": "GXaRhwMIA7t6",
        "outputId": "b8e4d5e5-dcd4-4ff2-aa94-321fc4ca9438"
      },
      "execution_count": null,
      "outputs": [
        {
          "output_type": "stream",
          "name": "stdout",
          "text": [
            "[[ 1  2  3]\n",
            " [ 4  4  5]\n",
            " [ 6  2 11]]\n"
          ]
        }
      ]
    },
    {
      "cell_type": "code",
      "source": [],
      "metadata": {
        "id": "CeYm3S5KC2q0"
      },
      "execution_count": null,
      "outputs": []
    }
  ]
}